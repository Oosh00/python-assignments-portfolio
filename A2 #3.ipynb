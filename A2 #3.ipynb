{
 "cells": [
  {
   "cell_type": "code",
   "execution_count": 17,
   "id": "cae9d132-6257-4842-9814-369ce2c7fcf2",
   "metadata": {},
   "outputs": [
    {
     "name": "stdout",
     "output_type": "stream",
     "text": [
      "0.2698741375\n",
      "0.8336061944\n",
      "3.1415926536\n",
      "Error, values of the function at the endpoint interval have the same sign\n"
     ]
    }
   ],
   "source": [
    "import math #importing a library\n",
    "\n",
    "\n",
    "def the_root(f, a, b):\n",
    "    if a > 0 and f(a) * f(b) > 0: #if f(a)*f(b)>0, the function doesn't cross x-axis: can't the bisection method. a>0 because you have to take the log of a positive number.\n",
    "        print(\"Error, values of the function at the endpoint interval have the same sign\")\n",
    "    else: #making the interval shorter until the midpoint is found, using the bisection method.\n",
    "        v = 10 ** -10\n",
    "        midpoint = 0\n",
    "        while abs(b - a) >= v:\n",
    "            midpoint = (a + b) / 2\n",
    "            if f(midpoint) * f(b) < 0:\n",
    "                a = midpoint\n",
    "            else:\n",
    "                b = midpoint\n",
    "        print(round(midpoint, 10))\n",
    "\n",
    "#below are the test cases\n",
    "def func_a(x):\n",
    "    return math.e ** x + math.log(x)\n",
    "\n",
    "\n",
    "def func_b(x):\n",
    "    return math.atan(x) - x ** 2\n",
    "\n",
    "\n",
    "def func_c(x):\n",
    "    return math.sin(x) / math.log(x)\n",
    "\n",
    "\n",
    "def func_d(x):\n",
    "    return math.log(math.cos(x))\n",
    "\n",
    "#these are the inputs\n",
    "the_root(func_a, 0, 1)\n",
    "the_root(func_b, 0, 2)\n",
    "the_root(func_c, 3, 4)\n",
    "the_root(func_d, 5, 7)"
   ]
  },
  {
   "cell_type": "code",
   "execution_count": null,
   "id": "30ab0563-5e0f-48d7-ba6c-6e97d7dad976",
   "metadata": {},
   "outputs": [],
   "source": []
  },
  {
   "cell_type": "code",
   "execution_count": null,
   "id": "1eab5664",
   "metadata": {},
   "outputs": [],
   "source": []
  }
 ],
 "metadata": {
  "kernelspec": {
   "display_name": "Python 3 (ipykernel)",
   "language": "python",
   "name": "python3"
  },
  "language_info": {
   "codemirror_mode": {
    "name": "ipython",
    "version": 3
   },
   "file_extension": ".py",
   "mimetype": "text/x-python",
   "name": "python",
   "nbconvert_exporter": "python",
   "pygments_lexer": "ipython3",
   "version": "3.11.4"
  }
 },
 "nbformat": 4,
 "nbformat_minor": 5
}
