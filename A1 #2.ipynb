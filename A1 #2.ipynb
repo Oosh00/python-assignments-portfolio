{
 "cells": [
  {
   "cell_type": "code",
   "execution_count": 3,
   "id": "bb4e5a6a-9d83-494c-875b-63f37089d83d",
   "metadata": {},
   "outputs": [],
   "source": [
    "def teriyaki(x):\n",
    "    n=0\n",
    "    a=0\n",
    "    error_bound=(x**(2*n+1))/(2*n+1)\n",
    "    \n",
    "    if 0 <= x <= 1:\n",
    "        while error_bound > 0.0001:\n",
    "            n+=1\n",
    "        for (i) in range (n):\n",
    "            a+=((-1)**i*x**(2*i+1)/(2*i+1))\n",
    "        nn=(2*n+1)\n",
    "        print (a,n,error_bound)\n",
    "    \n",
    "    else: \n",
    "        print(\"Error!\")"
   ]
  },
  {
   "cell_type": "code",
   "execution_count": 6,
   "id": "db6b50f5-f19b-4982-bc7a-235e042029a8",
   "metadata": {},
   "outputs": [
    {
     "name": "stdout",
     "output_type": "stream",
     "text": [
      "Error!\n"
     ]
    }
   ],
   "source": [
    "teriyaki(-1)"
   ]
  },
  {
   "cell_type": "code",
   "execution_count": 7,
   "id": "3c043762-ef6d-480a-a907-6f9e20addecc",
   "metadata": {},
   "outputs": [
    {
     "name": "stdout",
     "output_type": "stream",
     "text": [
      "0 1 0.0\n"
     ]
    }
   ],
   "source": [
    "teriyaki(0)"
   ]
  },
  {
   "cell_type": "code",
   "execution_count": 8,
   "id": "f2eaae92-4d40-4ef7-98dd-7bf62445544c",
   "metadata": {},
   "outputs": [
    {
     "name": "stdout",
     "output_type": "stream",
     "text": [
      "0.24498697916666665 7 8.719308035714285e-06\n"
     ]
    }
   ],
   "source": [
    "teriyaki(0.25)"
   ]
  },
  {
   "cell_type": "code",
   "execution_count": 12,
   "id": "c96c5e90-7c56-4a6b-9ce4-4e9de1fb8b32",
   "metadata": {},
   "outputs": [
    {
     "name": "stdout",
     "output_type": "stream",
     "text": [
      "0.46368427579365074 11 4.438920454545455e-05\n"
     ]
    }
   ],
   "source": [
    "teriyaki(0.5)"
   ]
  },
  {
   "cell_type": "code",
   "execution_count": 13,
   "id": "8195a9bc-91de-413b-b266-500f32057798",
   "metadata": {},
   "outputs": [
    {
     "name": "stdout",
     "output_type": "stream",
     "text": [
      "0.6435394700943785 23 5.816761029294689e-05\n"
     ]
    }
   ],
   "source": [
    "teriyaki(0.75)"
   ]
  },
  {
   "cell_type": "code",
   "execution_count": 14,
   "id": "32239f54-55bb-4618-bfe3-cbdf43ef7d14",
   "metadata": {},
   "outputs": [
    {
     "name": "stdout",
     "output_type": "stream",
     "text": [
      "0.7853481633979478 10001 9.999000099990002e-05\n"
     ]
    }
   ],
   "source": [
    "teriyaki(1)"
   ]
  },
  {
   "cell_type": "code",
   "execution_count": 1,
   "id": "bb011c69-de57-4fb3-b12e-936befb2e246",
   "metadata": {},
   "outputs": [
    {
     "ename": "NameError",
     "evalue": "name 'teriyaki' is not defined",
     "output_type": "error",
     "traceback": [
      "\u001b[0;31m---------------------------------------------------------------------------\u001b[0m",
      "\u001b[0;31mNameError\u001b[0m                                 Traceback (most recent call last)",
      "Cell \u001b[0;32mIn[1], line 1\u001b[0m\n\u001b[0;32m----> 1\u001b[0m \u001b[43mteriyaki\u001b[49m(\u001b[38;5;241m1\u001b[39m)\n",
      "\u001b[0;31mNameError\u001b[0m: name 'teriyaki' is not defined"
     ]
    }
   ],
   "source": [
    "teriyaki(1)"
   ]
  },
  {
   "cell_type": "code",
   "execution_count": null,
   "id": "966a45a3-e9d8-45ee-b25f-c3581573af13",
   "metadata": {},
   "outputs": [],
   "source": []
  }
 ],
 "metadata": {
  "kernelspec": {
   "display_name": "Python 3 (ipykernel)",
   "language": "python",
   "name": "python3"
  },
  "language_info": {
   "codemirror_mode": {
    "name": "ipython",
    "version": 3
   },
   "file_extension": ".py",
   "mimetype": "text/x-python",
   "name": "python",
   "nbconvert_exporter": "python",
   "pygments_lexer": "ipython3",
   "version": "3.11.4"
  }
 },
 "nbformat": 4,
 "nbformat_minor": 5
}
