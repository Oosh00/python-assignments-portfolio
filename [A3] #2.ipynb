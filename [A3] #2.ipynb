{
 "cells": [
  {
   "cell_type": "code",
   "execution_count": 1,
   "id": "a38bb2ce-5717-49c4-be36-7fc2b0c8cb6a",
   "metadata": {},
   "outputs": [
    {
     "ename": "NameError",
     "evalue": "name 'f' is not defined",
     "output_type": "error",
     "traceback": [
      "\u001b[0;31m---------------------------------------------------------------------------\u001b[0m",
      "\u001b[0;31mNameError\u001b[0m                                 Traceback (most recent call last)",
      "Cell \u001b[0;32mIn[1], line 28\u001b[0m\n\u001b[1;32m     26\u001b[0m c \u001b[38;5;241m=\u001b[39m \u001b[38;5;241m2\u001b[39m\n\u001b[1;32m     27\u001b[0m E \u001b[38;5;241m=\u001b[39m \u001b[38;5;241m1e-4\u001b[39m\n\u001b[0;32m---> 28\u001b[0m x1, x2 \u001b[38;5;241m=\u001b[39m find_x1_x2(\u001b[43mf\u001b[49m, c, E)\n\u001b[1;32m     30\u001b[0m \u001b[38;5;28mprint\u001b[39m(\u001b[38;5;124mf\u001b[39m\u001b[38;5;124m\"\u001b[39m\u001b[38;5;124mx1: \u001b[39m\u001b[38;5;132;01m{\u001b[39;00mx1\u001b[38;5;132;01m}\u001b[39;00m\u001b[38;5;124m, x2: \u001b[39m\u001b[38;5;132;01m{\u001b[39;00mx2\u001b[38;5;132;01m}\u001b[39;00m\u001b[38;5;124m\"\u001b[39m)\n\u001b[1;32m     31\u001b[0m \u001b[38;5;28mprint\u001b[39m(\u001b[38;5;124mf\u001b[39m\u001b[38;5;124m\"\u001b[39m\u001b[38;5;124mf(x1): \u001b[39m\u001b[38;5;132;01m{\u001b[39;00mf(x1)\u001b[38;5;132;01m}\u001b[39;00m\u001b[38;5;124m, L(x1): \u001b[39m\u001b[38;5;132;01m{\u001b[39;00mlinear_approximation(f,\u001b[38;5;250m \u001b[39mc,\u001b[38;5;250m \u001b[39mx1)\u001b[38;5;132;01m}\u001b[39;00m\u001b[38;5;124m\"\u001b[39m)\n",
      "\u001b[0;31mNameError\u001b[0m: name 'f' is not defined"
     ]
    }
   ],
   "source": [
    "def miso(x):\n",
    "    return x**2\n",
    "\n",
    "def cd(f, x, dx=1e-8):\n",
    "    return (f(x + dx) - f(x - dx)) / (2 * dx)\n",
    "\n",
    "def linear_approximation(f, c, x):\n",
    "    return f(c) + central_difference(f, c) * (x - c)\n",
    "\n",
    "def find_x1_x2(f, c, E):\n",
    "    delta_x = 1e-8\n",
    "    x1 = c - delta_x\n",
    "    x2 = c + delta_x\n",
    "    \n",
    "    while True:\n",
    "        L_x1 = linear_approximation(f, c, x1)\n",
    "        L_x2 = linear_approximation(f, c, x2)\n",
    "        \n",
    "        if abs(f(x1) - L_x1) == E and abs(f(x2) - L_x2) == E:\n",
    "            return x1, x2\n",
    "        \n",
    "        x1 -= delta_x\n",
    "        x2 += delta_x\n",
    "\n",
    "# Example usage\n",
    "c = 2\n",
    "E = 1e-4\n",
    "x1, x2 = find_x1_x2(f, c, E)\n",
    "\n",
    "print(f\"x1: {x1}, x2: {x2}\")\n",
    "print(f\"f(x1): {f(x1)}, L(x1): {linear_approximation(f, c, x1)}\")\n",
    "print(f\"f(x2): {f(x2)}, L(x2): {linear_approximation(f, c, x2)}\")\n"
   ]
  },
  {
   "cell_type": "code",
   "execution_count": null,
   "id": "eef73228-87e5-47e1-8ea1-5bc48dcf888e",
   "metadata": {},
   "outputs": [],
   "source": []
  }
 ],
 "metadata": {
  "kernelspec": {
   "display_name": "Python 3 (ipykernel)",
   "language": "python",
   "name": "python3"
  },
  "language_info": {
   "codemirror_mode": {
    "name": "ipython",
    "version": 3
   },
   "file_extension": ".py",
   "mimetype": "text/x-python",
   "name": "python",
   "nbconvert_exporter": "python",
   "pygments_lexer": "ipython3",
   "version": "3.11.4"
  }
 },
 "nbformat": 4,
 "nbformat_minor": 5
}
