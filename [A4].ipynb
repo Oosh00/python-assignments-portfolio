{
 "cells": [
  {
   "cell_type": "code",
   "execution_count": null,
   "id": "45b8562b-dec9-42e7-84ee-40294619c702",
   "metadata": {},
   "outputs": [],
   "source": [
    "import matplotlib.pyplot as plt #so we can plot\n",
    "import numpy as np #so we can calculate\n",
    "\n",
    "def gradient_descent(f,learning_rate,initial point):\n",
    "    def deriv(f,base_point): #estimate derivative of function at base point\n",
    "        return (f(base_point+10**(-5))-f(base_point-10**(-5)))/(2*10**(-5))\n",
    "    x_coords=[initial_point] #storing x values\n",
    "    y_coords=[f(initial_point)] #storing f(x) values\n",
    "    \n",
    "    point =  initial_point - learning_rate*deriv(f, initial_point) #setting point to the eta thing.. x1 equal to this initialize with x naught\n",
    "    for i in range(100): #run loop 100 times\n",
    "        x_coords.append(point)\n",
    "        y_coords.append(f(point)) #everytime you run through loop, append point to array before recalculating\n",
    "        point=point-learning_rate*deriv(f, point) #new point, x2 is x1 - learning rate. everytime iterate through loop. the point changes.\n",
    "        if deriv(f,point)<0.001:\n",
    "            \n"
   ]
  }
 ],
 "metadata": {
  "kernelspec": {
   "display_name": "Python 3 (ipykernel)",
   "language": "python",
   "name": "python3"
  },
  "language_info": {
   "codemirror_mode": {
    "name": "ipython",
    "version": 3
   },
   "file_extension": ".py",
   "mimetype": "text/x-python",
   "name": "python",
   "nbconvert_exporter": "python",
   "pygments_lexer": "ipython3",
   "version": "3.11.4"
  }
 },
 "nbformat": 4,
 "nbformat_minor": 5
}
